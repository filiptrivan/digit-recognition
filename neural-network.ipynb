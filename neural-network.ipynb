{
 "cells": [
  {
   "cell_type": "code",
   "execution_count": 4,
   "id": "55bb9b33",
   "metadata": {},
   "outputs": [],
   "source": [
    "import utils\n",
    "import numpy as np"
   ]
  },
  {
   "cell_type": "code",
   "execution_count": 5,
   "id": "b2d5c8ca",
   "metadata": {},
   "outputs": [
    {
     "name": "stdout",
     "output_type": "stream",
     "text": [
      "Training data 0 - x shape: (1, 784), label shape: (1,)\n",
      "Test data 0 - x shape: (1, 784), label shape: (1,)\n"
     ]
    }
   ],
   "source": [
    "training_data = utils.get_train_data()\n",
    "X = np.array(training_data.drop(columns=['label'])) / 255\n",
    "y = np.array(training_data['label'])\n",
    "X_test = np.array(utils.get_test_data()) / 255\n",
    "y_test = np.array(utils.get_test_labels()).ravel()\n",
    "training_data = [(x.reshape(1, -1), np.array([label])) for x, label in zip(X, y)]\n",
    "test_data = [(x.reshape(1, -1), np.array([label])) for x, label in zip(X_test, y_test)]\n",
    "\n",
    "for i, (x, label) in enumerate(training_data[:1]):\n",
    "    print(f\"Training data {i} - x shape: {x.shape}, label shape: {label.shape}\")\n",
    "\n",
    "for i, (x, label) in enumerate(test_data[:1]):\n",
    "    print(f\"Test data {i} - x shape: {x.shape}, label shape: {label.shape}\")"
   ]
  },
  {
   "cell_type": "code",
   "execution_count": null,
   "id": "68ed995e",
   "metadata": {},
   "outputs": [
    {
     "name": "stdout",
     "output_type": "stream",
     "text": [
      "Epoch 0: 26168 / 28000\n"
     ]
    },
    {
     "ename": "KeyboardInterrupt",
     "evalue": "",
     "output_type": "error",
     "traceback": [
      "\u001b[1;31m---------------------------------------------------------------------------\u001b[0m",
      "\u001b[1;31mKeyboardInterrupt\u001b[0m                         Traceback (most recent call last)",
      "Cell \u001b[1;32mIn[17], line 11\u001b[0m\n\u001b[0;32m      1\u001b[0m network \u001b[38;5;241m=\u001b[39m utils\u001b[38;5;241m.\u001b[39mNeuralNetwork([\u001b[38;5;241m784\u001b[39m, \u001b[38;5;241m30\u001b[39m, \u001b[38;5;241m10\u001b[39m])\n\u001b[0;32m      3\u001b[0m \u001b[38;5;66;03m# for i, w in enumerate(network.weights):\u001b[39;00m\n\u001b[0;32m      4\u001b[0m \u001b[38;5;66;03m#     print(f\"Weight matrix {i} shape: {w.shape}\")\u001b[39;00m\n\u001b[0;32m      5\u001b[0m \n\u001b[1;32m   (...)\u001b[0m\n\u001b[0;32m      8\u001b[0m \n\u001b[0;32m      9\u001b[0m \u001b[38;5;66;03m# utils.draw_neural_net(neuron.layer_sizes, max_neurons=20)\u001b[39;00m\n\u001b[1;32m---> 11\u001b[0m \u001b[43mnetwork\u001b[49m\u001b[38;5;241;43m.\u001b[39;49m\u001b[43mSGD\u001b[49m\u001b[43m(\u001b[49m\u001b[43mtraining_data\u001b[49m\u001b[43m,\u001b[49m\u001b[43m \u001b[49m\u001b[38;5;241;43m30\u001b[39;49m\u001b[43m,\u001b[49m\u001b[43m \u001b[49m\u001b[38;5;241;43m10\u001b[39;49m\u001b[43m,\u001b[49m\u001b[43m \u001b[49m\u001b[38;5;241;43m3.0\u001b[39;49m\u001b[43m,\u001b[49m\u001b[43m \u001b[49m\u001b[43mtest_data\u001b[49m\u001b[43m)\u001b[49m\n\u001b[0;32m     13\u001b[0m \u001b[38;5;66;03m# for i, w in enumerate(network.weights):\u001b[39;00m\n\u001b[0;32m     14\u001b[0m \u001b[38;5;66;03m#     if np.isnan(w).any():\u001b[39;00m\n\u001b[0;32m     15\u001b[0m \u001b[38;5;66;03m#         print(f\"Weight matrix {i} contains NaNs\")\u001b[39;00m\n\u001b[1;32m   (...)\u001b[0m\n\u001b[0;32m     30\u001b[0m \u001b[38;5;66;03m# utils.plot_cost(cost_history)\u001b[39;00m\n\u001b[0;32m     31\u001b[0m \u001b[38;5;66;03m# 1, 15 dot 15, 784\u001b[39;00m\n",
      "File \u001b[1;32mc:\\Users\\user\\Documents\\Projects\\TestProjects\\digit-recognition\\utils.py:141\u001b[0m, in \u001b[0;36mNeuralNetwork.SGD\u001b[1;34m(self, training_data, epochs, mini_batch_size, alpha, test_data)\u001b[0m\n\u001b[0;32m    137\u001b[0m mini_batches \u001b[38;5;241m=\u001b[39m [training_data[k:k\u001b[38;5;241m+\u001b[39mmini_batch_size]\n\u001b[0;32m    138\u001b[0m                 \u001b[38;5;28;01mfor\u001b[39;00m k \u001b[38;5;129;01min\u001b[39;00m \u001b[38;5;28mrange\u001b[39m(\u001b[38;5;241m0\u001b[39m, n, mini_batch_size)]\n\u001b[0;32m    140\u001b[0m \u001b[38;5;28;01mfor\u001b[39;00m mini_batch \u001b[38;5;129;01min\u001b[39;00m mini_batches:\n\u001b[1;32m--> 141\u001b[0m     \u001b[38;5;28;43mself\u001b[39;49m\u001b[38;5;241;43m.\u001b[39;49m\u001b[43mupdate_mini_batch\u001b[49m\u001b[43m(\u001b[49m\u001b[43mmini_batch\u001b[49m\u001b[43m,\u001b[49m\u001b[43m \u001b[49m\u001b[43malpha\u001b[49m\u001b[43m)\u001b[49m\n\u001b[0;32m    143\u001b[0m \u001b[38;5;28;01mif\u001b[39;00m test_data:\n\u001b[0;32m    144\u001b[0m     \u001b[38;5;28mprint\u001b[39m(\u001b[38;5;124m\"\u001b[39m\u001b[38;5;124mEpoch \u001b[39m\u001b[38;5;132;01m{0}\u001b[39;00m\u001b[38;5;124m: \u001b[39m\u001b[38;5;132;01m{1}\u001b[39;00m\u001b[38;5;124m / \u001b[39m\u001b[38;5;132;01m{2}\u001b[39;00m\u001b[38;5;124m\"\u001b[39m\u001b[38;5;241m.\u001b[39mformat(epoch, \u001b[38;5;28mself\u001b[39m\u001b[38;5;241m.\u001b[39mevaluate(test_data), n_test))\n",
      "File \u001b[1;32mc:\\Users\\user\\Documents\\Projects\\TestProjects\\digit-recognition\\utils.py:158\u001b[0m, in \u001b[0;36mNeuralNetwork.update_mini_batch\u001b[1;34m(self, mini_batch, alpha)\u001b[0m\n\u001b[0;32m    153\u001b[0m nabla_biases \u001b[38;5;241m=\u001b[39m [np\u001b[38;5;241m.\u001b[39mzeros(b\u001b[38;5;241m.\u001b[39mshape) \u001b[38;5;28;01mfor\u001b[39;00m b \u001b[38;5;129;01min\u001b[39;00m \u001b[38;5;28mself\u001b[39m\u001b[38;5;241m.\u001b[39mbiases]\n\u001b[0;32m    155\u001b[0m \u001b[38;5;28;01mfor\u001b[39;00m x, y \u001b[38;5;129;01min\u001b[39;00m mini_batch:\n\u001b[0;32m    156\u001b[0m     \u001b[38;5;66;03m# FT: Backprop is a fast way for calculating gradients of weights and biases\u001b[39;00m\n\u001b[0;32m    157\u001b[0m     \u001b[38;5;66;03m# Calculates how much each weight should change for x, y pair\u001b[39;00m\n\u001b[1;32m--> 158\u001b[0m     delta_nabla_weights, delta_nabla_biases \u001b[38;5;241m=\u001b[39m \u001b[38;5;28;43mself\u001b[39;49m\u001b[38;5;241;43m.\u001b[39;49m\u001b[43mbackprop\u001b[49m\u001b[43m(\u001b[49m\u001b[43mx\u001b[49m\u001b[43m,\u001b[49m\u001b[43m \u001b[49m\u001b[43my\u001b[49m\u001b[43m)\u001b[49m\n\u001b[0;32m    159\u001b[0m     nabla_weights \u001b[38;5;241m=\u001b[39m [nw \u001b[38;5;241m+\u001b[39m dnw \n\u001b[0;32m    160\u001b[0m                     \u001b[38;5;28;01mfor\u001b[39;00m nw, dnw \u001b[38;5;129;01min\u001b[39;00m \u001b[38;5;28mzip\u001b[39m(nabla_weights, delta_nabla_weights)]\n\u001b[0;32m    161\u001b[0m     nabla_biases \u001b[38;5;241m=\u001b[39m [nb \u001b[38;5;241m+\u001b[39m dnb \n\u001b[0;32m    162\u001b[0m                    \u001b[38;5;28;01mfor\u001b[39;00m nb, dnb \u001b[38;5;129;01min\u001b[39;00m \u001b[38;5;28mzip\u001b[39m(nabla_biases, delta_nabla_biases)]\n",
      "File \u001b[1;32mc:\\Users\\user\\Documents\\Projects\\TestProjects\\digit-recognition\\utils.py:185\u001b[0m, in \u001b[0;36mNeuralNetwork.backprop\u001b[1;34m(self, x, y)\u001b[0m\n\u001b[0;32m    183\u001b[0m zs \u001b[38;5;241m=\u001b[39m [] \u001b[38;5;66;03m# list to store all the z vectors, layer by layer\u001b[39;00m\n\u001b[0;32m    184\u001b[0m \u001b[38;5;28;01mfor\u001b[39;00m w, b \u001b[38;5;129;01min\u001b[39;00m \u001b[38;5;28mzip\u001b[39m(\u001b[38;5;28mself\u001b[39m\u001b[38;5;241m.\u001b[39mweights, \u001b[38;5;28mself\u001b[39m\u001b[38;5;241m.\u001b[39mbiases):\n\u001b[1;32m--> 185\u001b[0m     z \u001b[38;5;241m=\u001b[39m \u001b[43mnp\u001b[49m\u001b[38;5;241;43m.\u001b[39;49m\u001b[43mdot\u001b[49m\u001b[43m(\u001b[49m\u001b[43mactivation\u001b[49m\u001b[43m,\u001b[49m\u001b[43m \u001b[49m\u001b[43mw\u001b[49m\u001b[43m)\u001b[49m \u001b[38;5;241m+\u001b[39m b\n\u001b[0;32m    186\u001b[0m     zs\u001b[38;5;241m.\u001b[39mappend(z)\n\u001b[0;32m    187\u001b[0m     \u001b[38;5;66;03m# print(f'{activation.shape} dot {w.shape} => {z.shape}')\u001b[39;00m\n",
      "\u001b[1;31mKeyboardInterrupt\u001b[0m: "
     ]
    }
   ],
   "source": [
    "network = utils.NeuralNetwork([784, 100, 10])\n",
    "\n",
    "# for i, w in enumerate(network.weights):\n",
    "#     print(f\"Weight matrix {i} shape: {w.shape}\")\n",
    "\n",
    "# for i, b in enumerate(network.biases):\n",
    "#     print(f\"Bias vector {i} shape: {b.shape}\")\n",
    "\n",
    "# utils.draw_neural_net(neuron.layer_sizes, max_neurons=20)\n",
    "\n",
    "network.SGD(training_data, 30, 10, 3.0, test_data)\n",
    "\n",
    "# for i, w in enumerate(network.weights):\n",
    "#     if np.isnan(w).any():\n",
    "#         print(f\"Weight matrix {i} contains NaNs\")\n",
    "#     else:\n",
    "#         print(f\"Weight matrix {i} is clean\")\n",
    "\n",
    "# for i, b in enumerate(network.biases):\n",
    "#     if np.isnan(b).any():\n",
    "#         print(f\"Bias vector {i} contains NaNs\")\n",
    "#     else:\n",
    "#         print(f\"Bias vector {i} is clean\")\n",
    "\n",
    "# network.forward(X)\n",
    "\n",
    "# print(network.activations[-1][0])\n",
    "# W, B, cost_history = utils.train_neural_network(X, y, alpha=0.00001, lambd=0.5, epochs=100, num_classes=10)\n",
    "\n",
    "# utils.plot_cost(cost_history)\n",
    "# 1, 15 dot 15, 784"
   ]
  },
  {
   "cell_type": "code",
   "execution_count": 14,
   "id": "bba2c0f6",
   "metadata": {},
   "outputs": [
    {
     "data": {
      "text/plain": [
       "[3]"
      ]
     },
     "execution_count": 14,
     "metadata": {},
     "output_type": "execute_result"
    }
   ],
   "source": [
    "network.predict(X[7])"
   ]
  },
  {
   "cell_type": "code",
   "execution_count": null,
   "id": "9ddfd9fc",
   "metadata": {},
   "outputs": [],
   "source": []
  },
  {
   "cell_type": "code",
   "execution_count": null,
   "id": "12888e2a",
   "metadata": {},
   "outputs": [],
   "source": []
  },
  {
   "cell_type": "code",
   "execution_count": null,
   "id": "07eec956",
   "metadata": {},
   "outputs": [],
   "source": []
  },
  {
   "cell_type": "code",
   "execution_count": null,
   "id": "f7933d37",
   "metadata": {},
   "outputs": [],
   "source": []
  },
  {
   "cell_type": "code",
   "execution_count": null,
   "id": "17863c13",
   "metadata": {},
   "outputs": [],
   "source": []
  },
  {
   "cell_type": "code",
   "execution_count": null,
   "id": "0c1b69e2",
   "metadata": {},
   "outputs": [],
   "source": []
  }
 ],
 "metadata": {
  "kernelspec": {
   "display_name": "Python 3",
   "language": "python",
   "name": "python3"
  },
  "language_info": {
   "codemirror_mode": {
    "name": "ipython",
    "version": 3
   },
   "file_extension": ".py",
   "mimetype": "text/x-python",
   "name": "python",
   "nbconvert_exporter": "python",
   "pygments_lexer": "ipython3",
   "version": "3.11.3"
  }
 },
 "nbformat": 4,
 "nbformat_minor": 5
}
