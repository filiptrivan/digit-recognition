{
 "cells": [
  {
   "cell_type": "code",
   "execution_count": 1,
   "id": "55bb9b33",
   "metadata": {},
   "outputs": [],
   "source": [
    "import utils\n",
    "import numpy as np"
   ]
  },
  {
   "cell_type": "code",
   "execution_count": 2,
   "id": "b2d5c8ca",
   "metadata": {},
   "outputs": [],
   "source": [
    "training_data = utils.get_train_data()\n",
    "X = np.array(training_data.drop(columns=['label']))\n",
    "y = np.array(training_data['label'])\n",
    "X_test = np.array(utils.get_test_data())\n",
    "y_test = np.array(utils.get_test_labels()).ravel()\n",
    "training_data = [(x.reshape(1, -1), np.array([label])) for x, label in zip(X, y)]\n",
    "test_data = [(x.reshape(1, -1), np.array([label])) for x, label in zip(X_test, y_test)]"
   ]
  },
  {
   "cell_type": "code",
   "execution_count": 3,
   "id": "68ed995e",
   "metadata": {},
   "outputs": [
    {
     "name": "stdout",
     "output_type": "stream",
     "text": [
      "Weight matrix 0 shape: (784, 5)\n",
      "Weight matrix 1 shape: (5, 15)\n",
      "Weight matrix 2 shape: (15, 10)\n",
      "Bias vector 0 shape: (1, 5)\n",
      "Bias vector 1 shape: (1, 15)\n",
      "Bias vector 2 shape: (1, 10)\n"
     ]
    },
    {
     "name": "stderr",
     "output_type": "stream",
     "text": [
      "c:\\Users\\user\\Documents\\Projects\\TestProjects\\digit-recognition\\utils.py:214: RuntimeWarning: overflow encountered in exp\n",
      "  return 1.0 / (1.0 + np.exp(-z))\n",
      "c:\\Users\\user\\Documents\\Projects\\TestProjects\\digit-recognition\\utils.py:203: RuntimeWarning: overflow encountered in multiply\n",
      "  delta = np.dot(delta, self.weights[-l+1].T) * sp\n",
      "c:\\Users\\user\\Documents\\Projects\\TestProjects\\digit-recognition\\utils.py:217: RuntimeWarning: overflow encountered in multiply\n",
      "  return z * (1.0 - z)\n"
     ]
    },
    {
     "name": "stdout",
     "output_type": "stream",
     "text": [
      "Epoch 0 complete\n",
      "Epoch 1 complete\n",
      "Epoch 2 complete\n",
      "Epoch 3 complete\n",
      "Epoch 4 complete\n",
      "[[nan nan nan ... nan nan nan]\n",
      " [nan nan nan ... nan nan nan]\n",
      " [nan nan nan ... nan nan nan]\n",
      " ...\n",
      " [nan nan nan ... nan nan nan]\n",
      " [nan nan nan ... nan nan nan]\n",
      " [nan nan nan ... nan nan nan]]\n"
     ]
    }
   ],
   "source": [
    "network = utils.NeuralNetwork([784, 5, 15, 10])\n",
    "\n",
    "for i, w in enumerate(network.weights):\n",
    "    print(f\"Weight matrix {i} shape: {w.shape}\")\n",
    "\n",
    "for i, b in enumerate(network.biases):\n",
    "    print(f\"Bias vector {i} shape: {b.shape}\")\n",
    "\n",
    "# utils.draw_neural_net(neuron.layer_sizes, max_neurons=20)\n",
    "\n",
    "network.SGD(training_data, 5, 10, 3.0)\n",
    "network.forward(X)\n",
    "print(network.activations[-1])\n",
    "# W, B, cost_history = utils.train_neural_network(X, y, alpha=0.00001, lambd=0.5, epochs=100, num_classes=10)\n",
    "\n",
    "# utils.plot_cost(cost_history)\n",
    "# 1, 15 dot 15, 784"
   ]
  }
 ],
 "metadata": {
  "kernelspec": {
   "display_name": "Python 3",
   "language": "python",
   "name": "python3"
  },
  "language_info": {
   "codemirror_mode": {
    "name": "ipython",
    "version": 3
   },
   "file_extension": ".py",
   "mimetype": "text/x-python",
   "name": "python",
   "nbconvert_exporter": "python",
   "pygments_lexer": "ipython3",
   "version": "3.11.3"
  }
 },
 "nbformat": 4,
 "nbformat_minor": 5
}
