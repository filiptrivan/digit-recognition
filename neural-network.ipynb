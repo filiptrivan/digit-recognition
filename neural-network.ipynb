{
 "cells": [
  {
   "cell_type": "code",
   "execution_count": null,
   "id": "55bb9b33",
   "metadata": {},
   "outputs": [],
   "source": [
    "import utils\n",
    "import numpy as np"
   ]
  },
  {
   "cell_type": "code",
   "execution_count": null,
   "id": "b2d5c8ca",
   "metadata": {},
   "outputs": [],
   "source": [
    "training_data = utils.get_train_data()\n",
    "X_test = np.array(utils.get_test_data())\n",
    "y_test = np.array(utils.get_test_labels()).ravel()"
   ]
  },
  {
   "cell_type": "code",
   "execution_count": null,
   "id": "019283ba",
   "metadata": {},
   "outputs": [],
   "source": [
    "X = np.array(training_data.drop(columns=['label']))\n",
    "y = np.array(training_data['label'])\n",
    "W, B, cost_history = utils.train_neural_network(X, y, alpha=0.00001, lambd=0.5, epochs=100, num_classes=10)\n",
    "\n",
    "utils.plot_cost(cost_history)"
   ]
  }
 ],
 "metadata": {
  "language_info": {
   "name": "python"
  }
 },
 "nbformat": 4,
 "nbformat_minor": 5
}
