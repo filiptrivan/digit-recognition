{
 "cells": [
  {
   "cell_type": "code",
   "execution_count": 1,
   "id": "55bb9b33",
   "metadata": {},
   "outputs": [],
   "source": [
    "import utils\n",
    "import numpy as np"
   ]
  },
  {
   "cell_type": "code",
   "execution_count": 2,
   "id": "b2d5c8ca",
   "metadata": {},
   "outputs": [],
   "source": [
    "training_data = utils.get_train_data()\n",
    "X = np.array(training_data.drop(columns=['label']))\n",
    "y = np.array(training_data['label'])\n",
    "X_test = np.array(utils.get_test_data())\n",
    "y_test = np.array(utils.get_test_labels()).ravel()"
   ]
  },
  {
   "cell_type": "code",
   "execution_count": null,
   "id": "68ed995e",
   "metadata": {},
   "outputs": [
    {
     "name": "stdout",
     "output_type": "stream",
     "text": [
      "Weight matrix 0 shape: (784, 15)\n",
      "Weight matrix 1 shape: (15, 15)\n",
      "Weight matrix 2 shape: (15, 10)\n",
      "Bias vector 0 shape: (1, 15)\n",
      "Bias vector 1 shape: (1, 15)\n",
      "Bias vector 2 shape: (1, 10)\n",
      "(42000, 784)\n",
      "4\n"
     ]
    },
    {
     "data": {
      "text/plain": [
       "array([[0.49352129, 0.50262945, 0.49505619, ..., 0.49488058, 0.50098803,\n",
       "        0.50340213],\n",
       "       [0.49350126, 0.50260276, 0.49500201, ..., 0.49488644, 0.50091569,\n",
       "        0.50337138],\n",
       "       [0.49347407, 0.50256513, 0.49507679, ..., 0.49479421, 0.5008244 ,\n",
       "        0.5034505 ],\n",
       "       ...,\n",
       "       [0.49351512, 0.5025354 , 0.4950618 , ..., 0.49478783, 0.50090048,\n",
       "        0.50337201],\n",
       "       [0.49348877, 0.50257977, 0.49503426, ..., 0.49482451, 0.50086565,\n",
       "        0.50340992],\n",
       "       [0.49345216, 0.50260819, 0.49505343, ..., 0.49492596, 0.50090406,\n",
       "        0.50342671]])"
      ]
     },
     "execution_count": 3,
     "metadata": {},
     "output_type": "execute_result"
    }
   ],
   "source": [
    "neuron = utils.NeuralNetwork([784, 15, 15, 10])\n",
    "\n",
    "for i, w in enumerate(neuron.weights):\n",
    "    print(f\"Weight matrix {i} shape: {w.shape}\")\n",
    "\n",
    "for i, b in enumerate(neuron.biases):\n",
    "    print(f\"Bias vector {i} shape: {b.shape}\")\n",
    "\n",
    "# utils.draw_neural_net(neuron.layer_sizes, max_neurons=20)\n",
    "\n",
    "neuron.SGD(X, 10, 10, 0.1)\n",
    "neuron.forward(X)\n",
    "# W, B, cost_history = utils.train_neural_network(X, y, alpha=0.00001, lambd=0.5, epochs=100, num_classes=10)\n",
    "\n",
    "# utils.plot_cost(cost_history)"
   ]
  }
 ],
 "metadata": {
  "kernelspec": {
   "display_name": "Python 3",
   "language": "python",
   "name": "python3"
  },
  "language_info": {
   "codemirror_mode": {
    "name": "ipython",
    "version": 3
   },
   "file_extension": ".py",
   "mimetype": "text/x-python",
   "name": "python",
   "nbconvert_exporter": "python",
   "pygments_lexer": "ipython3",
   "version": "3.11.3"
  }
 },
 "nbformat": 4,
 "nbformat_minor": 5
}
